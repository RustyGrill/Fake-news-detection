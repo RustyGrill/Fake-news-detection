{
 "cells": [
  {
   "cell_type": "code",
   "execution_count": 59,
   "id": "a96a9a4c-99a6-4c23-aae6-dccf5f59973e",
   "metadata": {},
   "outputs": [],
   "source": [
    "import pandas as pd\n",
    "import numpy as np\n",
    "import seaborn as sea"
   ]
  },
  {
   "cell_type": "markdown",
   "id": "0c6bb51a-cf09-434e-b4ea-9fcc8cad9408",
   "metadata": {},
   "source": [
    "Reading the fake news file"
   ]
  },
  {
   "cell_type": "code",
   "execution_count": 60,
   "id": "81bc3926-2a58-4726-91de-5026048099ce",
   "metadata": {},
   "outputs": [],
   "source": [
    "df_fake = pd.read_csv('C:\\\\Users\\\\kusha\\\\DAI_1\\\\Fake_news_project\\\\Fake.csv\\\\Fake.csv')\n"
   ]
  },
  {
   "cell_type": "code",
   "execution_count": 61,
   "id": "09868519-a666-4ef6-a751-36d47c46d9f8",
   "metadata": {},
   "outputs": [
    {
     "data": {
      "text/html": [
       "<div>\n",
       "<style scoped>\n",
       "    .dataframe tbody tr th:only-of-type {\n",
       "        vertical-align: middle;\n",
       "    }\n",
       "\n",
       "    .dataframe tbody tr th {\n",
       "        vertical-align: top;\n",
       "    }\n",
       "\n",
       "    .dataframe thead th {\n",
       "        text-align: right;\n",
       "    }\n",
       "</style>\n",
       "<table border=\"1\" class=\"dataframe\">\n",
       "  <thead>\n",
       "    <tr style=\"text-align: right;\">\n",
       "      <th></th>\n",
       "      <th>title</th>\n",
       "      <th>text</th>\n",
       "      <th>subject</th>\n",
       "      <th>date</th>\n",
       "    </tr>\n",
       "  </thead>\n",
       "  <tbody>\n",
       "    <tr>\n",
       "      <th>0</th>\n",
       "      <td>Donald Trump Sends Out Embarrassing New Year’...</td>\n",
       "      <td>Donald Trump just couldn t wish all Americans ...</td>\n",
       "      <td>News</td>\n",
       "      <td>December 31, 2017</td>\n",
       "    </tr>\n",
       "    <tr>\n",
       "      <th>1</th>\n",
       "      <td>Drunk Bragging Trump Staffer Started Russian ...</td>\n",
       "      <td>House Intelligence Committee Chairman Devin Nu...</td>\n",
       "      <td>News</td>\n",
       "      <td>December 31, 2017</td>\n",
       "    </tr>\n",
       "    <tr>\n",
       "      <th>2</th>\n",
       "      <td>Sheriff David Clarke Becomes An Internet Joke...</td>\n",
       "      <td>On Friday, it was revealed that former Milwauk...</td>\n",
       "      <td>News</td>\n",
       "      <td>December 30, 2017</td>\n",
       "    </tr>\n",
       "    <tr>\n",
       "      <th>3</th>\n",
       "      <td>Trump Is So Obsessed He Even Has Obama’s Name...</td>\n",
       "      <td>On Christmas day, Donald Trump announced that ...</td>\n",
       "      <td>News</td>\n",
       "      <td>December 29, 2017</td>\n",
       "    </tr>\n",
       "    <tr>\n",
       "      <th>4</th>\n",
       "      <td>Pope Francis Just Called Out Donald Trump Dur...</td>\n",
       "      <td>Pope Francis used his annual Christmas Day mes...</td>\n",
       "      <td>News</td>\n",
       "      <td>December 25, 2017</td>\n",
       "    </tr>\n",
       "    <tr>\n",
       "      <th>5</th>\n",
       "      <td>Racist Alabama Cops Brutalize Black Boy While...</td>\n",
       "      <td>The number of cases of cops brutalizing and ki...</td>\n",
       "      <td>News</td>\n",
       "      <td>December 25, 2017</td>\n",
       "    </tr>\n",
       "    <tr>\n",
       "      <th>6</th>\n",
       "      <td>Fresh Off The Golf Course, Trump Lashes Out A...</td>\n",
       "      <td>Donald Trump spent a good portion of his day a...</td>\n",
       "      <td>News</td>\n",
       "      <td>December 23, 2017</td>\n",
       "    </tr>\n",
       "    <tr>\n",
       "      <th>7</th>\n",
       "      <td>Trump Said Some INSANELY Racist Stuff Inside ...</td>\n",
       "      <td>In the wake of yet another court decision that...</td>\n",
       "      <td>News</td>\n",
       "      <td>December 23, 2017</td>\n",
       "    </tr>\n",
       "    <tr>\n",
       "      <th>8</th>\n",
       "      <td>Former CIA Director Slams Trump Over UN Bully...</td>\n",
       "      <td>Many people have raised the alarm regarding th...</td>\n",
       "      <td>News</td>\n",
       "      <td>December 22, 2017</td>\n",
       "    </tr>\n",
       "    <tr>\n",
       "      <th>9</th>\n",
       "      <td>WATCH: Brand-New Pro-Trump Ad Features So Muc...</td>\n",
       "      <td>Just when you might have thought we d get a br...</td>\n",
       "      <td>News</td>\n",
       "      <td>December 21, 2017</td>\n",
       "    </tr>\n",
       "  </tbody>\n",
       "</table>\n",
       "</div>"
      ],
      "text/plain": [
       "                                               title  \\\n",
       "0   Donald Trump Sends Out Embarrassing New Year’...   \n",
       "1   Drunk Bragging Trump Staffer Started Russian ...   \n",
       "2   Sheriff David Clarke Becomes An Internet Joke...   \n",
       "3   Trump Is So Obsessed He Even Has Obama’s Name...   \n",
       "4   Pope Francis Just Called Out Donald Trump Dur...   \n",
       "5   Racist Alabama Cops Brutalize Black Boy While...   \n",
       "6   Fresh Off The Golf Course, Trump Lashes Out A...   \n",
       "7   Trump Said Some INSANELY Racist Stuff Inside ...   \n",
       "8   Former CIA Director Slams Trump Over UN Bully...   \n",
       "9   WATCH: Brand-New Pro-Trump Ad Features So Muc...   \n",
       "\n",
       "                                                text subject  \\\n",
       "0  Donald Trump just couldn t wish all Americans ...    News   \n",
       "1  House Intelligence Committee Chairman Devin Nu...    News   \n",
       "2  On Friday, it was revealed that former Milwauk...    News   \n",
       "3  On Christmas day, Donald Trump announced that ...    News   \n",
       "4  Pope Francis used his annual Christmas Day mes...    News   \n",
       "5  The number of cases of cops brutalizing and ki...    News   \n",
       "6  Donald Trump spent a good portion of his day a...    News   \n",
       "7  In the wake of yet another court decision that...    News   \n",
       "8  Many people have raised the alarm regarding th...    News   \n",
       "9  Just when you might have thought we d get a br...    News   \n",
       "\n",
       "                date  \n",
       "0  December 31, 2017  \n",
       "1  December 31, 2017  \n",
       "2  December 30, 2017  \n",
       "3  December 29, 2017  \n",
       "4  December 25, 2017  \n",
       "5  December 25, 2017  \n",
       "6  December 23, 2017  \n",
       "7  December 23, 2017  \n",
       "8  December 22, 2017  \n",
       "9  December 21, 2017  "
      ]
     },
     "execution_count": 61,
     "metadata": {},
     "output_type": "execute_result"
    }
   ],
   "source": [
    "df_fake.head(10)"
   ]
  },
  {
   "cell_type": "markdown",
   "id": "afbc21dc-e993-4cfa-aa14-725b8b58074c",
   "metadata": {},
   "source": [
    "Reading the true news"
   ]
  },
  {
   "cell_type": "code",
   "execution_count": 62,
   "id": "966c9ac7-357a-4bcb-bfc6-997c3f1aa2ba",
   "metadata": {},
   "outputs": [],
   "source": [
    "df_true=pd.read_csv(\"C:\\\\Users\\\\kusha\\\\DAI_1\\\\Fake_news_project\\\\True.csv\\\\True.csv\")"
   ]
  },
  {
   "cell_type": "markdown",
   "id": "1a6f7815-80a5-47a2-b909-ee2d4fe411df",
   "metadata": {},
   "source": [
    "Labelling the true news and fake news"
   ]
  },
  {
   "cell_type": "code",
   "execution_count": 63,
   "id": "a93e1395-64fe-4510-a688-a759a90b4f0a",
   "metadata": {},
   "outputs": [],
   "source": [
    "df_fake[\"label\"] = 1 \n",
    "df_true[\"label\"] = 0 "
   ]
  },
  {
   "cell_type": "markdown",
   "id": "d53c9d6c-7293-4eb8-ac37-74a679067218",
   "metadata": {},
   "source": [
    "Combining both true news and fake news"
   ]
  },
  {
   "cell_type": "code",
   "execution_count": 64,
   "id": "8f798a68-6ee2-445d-a14e-cc3b0b019c82",
   "metadata": {},
   "outputs": [],
   "source": [
    "df_combined = pd.concat([df_fake, df_true], ignore_index=True)\n",
    "df_combined = df_combined.sample(frac=1).reset_index(drop=True)\n"
   ]
  },
  {
   "cell_type": "code",
   "execution_count": 65,
   "id": "267acb87-c058-4d1a-9fe9-fa81543635c5",
   "metadata": {},
   "outputs": [],
   "source": [
    "df_combined.to_csv(\"news_dataset.csv\", index=False)"
   ]
  },
  {
   "cell_type": "code",
   "execution_count": 66,
   "id": "3b4375a2-d6e1-4b6d-935e-dc903a8375b1",
   "metadata": {
    "scrolled": true
   },
   "outputs": [
    {
     "data": {
      "text/html": [
       "<div>\n",
       "<style scoped>\n",
       "    .dataframe tbody tr th:only-of-type {\n",
       "        vertical-align: middle;\n",
       "    }\n",
       "\n",
       "    .dataframe tbody tr th {\n",
       "        vertical-align: top;\n",
       "    }\n",
       "\n",
       "    .dataframe thead th {\n",
       "        text-align: right;\n",
       "    }\n",
       "</style>\n",
       "<table border=\"1\" class=\"dataframe\">\n",
       "  <thead>\n",
       "    <tr style=\"text-align: right;\">\n",
       "      <th></th>\n",
       "      <th>title</th>\n",
       "      <th>text</th>\n",
       "      <th>subject</th>\n",
       "      <th>date</th>\n",
       "      <th>label</th>\n",
       "    </tr>\n",
       "  </thead>\n",
       "  <tbody>\n",
       "    <tr>\n",
       "      <th>0</th>\n",
       "      <td>TV Host Buys and Forgives $15m Worth of U.S. M...</td>\n",
       "      <td>21st Century Wire says This latest stunt only ...</td>\n",
       "      <td>Middle-east</td>\n",
       "      <td>June 7, 2016</td>\n",
       "      <td>1</td>\n",
       "    </tr>\n",
       "    <tr>\n",
       "      <th>1</th>\n",
       "      <td>U.S. Tillerson assures Washington's only goal ...</td>\n",
       "      <td>MOSCOW (Reuters) - U.S. Secretary of State Rex...</td>\n",
       "      <td>worldnews</td>\n",
       "      <td>October 12, 2017</td>\n",
       "      <td>0</td>\n",
       "    </tr>\n",
       "    <tr>\n",
       "      <th>2</th>\n",
       "      <td>Obama allies to press Republicans on high cour...</td>\n",
       "      <td>WASHINGTON (Reuters) - As the Senate began a t...</td>\n",
       "      <td>politicsNews</td>\n",
       "      <td>March 18, 2016</td>\n",
       "      <td>0</td>\n",
       "    </tr>\n",
       "    <tr>\n",
       "      <th>3</th>\n",
       "      <td>Marco Rubio’s Friend Thinks He Needs To See A...</td>\n",
       "      <td>When Marco Rubio announced that he was running...</td>\n",
       "      <td>News</td>\n",
       "      <td>February 8, 2016</td>\n",
       "      <td>1</td>\n",
       "    </tr>\n",
       "    <tr>\n",
       "      <th>4</th>\n",
       "      <td>FOX NEWS ANCHOR SHEPARD SMITH GOES ON A HUGE A...</td>\n",
       "      <td>Unprofessional? For those of you who might not...</td>\n",
       "      <td>left-news</td>\n",
       "      <td>Sep 8, 2015</td>\n",
       "      <td>1</td>\n",
       "    </tr>\n",
       "    <tr>\n",
       "      <th>5</th>\n",
       "      <td>Trump's tax cut proposal shines light on MLPs</td>\n",
       "      <td>NEW YORK/HOUSTON (Reuters) - The Trump adminis...</td>\n",
       "      <td>politicsNews</td>\n",
       "      <td>April 26, 2017</td>\n",
       "      <td>0</td>\n",
       "    </tr>\n",
       "    <tr>\n",
       "      <th>6</th>\n",
       "      <td>A Must Watch Video! Brilliant Take On How Hill...</td>\n",
       "      <td>Hillary Clinton breaks the law, gets people wh...</td>\n",
       "      <td>Government News</td>\n",
       "      <td>Oct 25, 2015</td>\n",
       "      <td>1</td>\n",
       "    </tr>\n",
       "    <tr>\n",
       "      <th>7</th>\n",
       "      <td>BREAKING: Megyn Kelly Just Gave The Ultimate ...</td>\n",
       "      <td>It seems that Fox News  repeated decisions to ...</td>\n",
       "      <td>News</td>\n",
       "      <td>January 3, 2017</td>\n",
       "      <td>1</td>\n",
       "    </tr>\n",
       "    <tr>\n",
       "      <th>8</th>\n",
       "      <td>Indonesian minister to meet Suu Kyi amid prote...</td>\n",
       "      <td>JAKARTA (Reuters) - Indonesia s foreign minist...</td>\n",
       "      <td>worldnews</td>\n",
       "      <td>September 4, 2017</td>\n",
       "      <td>0</td>\n",
       "    </tr>\n",
       "    <tr>\n",
       "      <th>9</th>\n",
       "      <td>About Time! Christian Group Sues Amazon and SP...</td>\n",
       "      <td>All we can say on this one is it s about time ...</td>\n",
       "      <td>left-news</td>\n",
       "      <td>Aug 27, 2017</td>\n",
       "      <td>1</td>\n",
       "    </tr>\n",
       "  </tbody>\n",
       "</table>\n",
       "</div>"
      ],
      "text/plain": [
       "                                               title  \\\n",
       "0  TV Host Buys and Forgives $15m Worth of U.S. M...   \n",
       "1  U.S. Tillerson assures Washington's only goal ...   \n",
       "2  Obama allies to press Republicans on high cour...   \n",
       "3   Marco Rubio’s Friend Thinks He Needs To See A...   \n",
       "4  FOX NEWS ANCHOR SHEPARD SMITH GOES ON A HUGE A...   \n",
       "5      Trump's tax cut proposal shines light on MLPs   \n",
       "6  A Must Watch Video! Brilliant Take On How Hill...   \n",
       "7   BREAKING: Megyn Kelly Just Gave The Ultimate ...   \n",
       "8  Indonesian minister to meet Suu Kyi amid prote...   \n",
       "9  About Time! Christian Group Sues Amazon and SP...   \n",
       "\n",
       "                                                text          subject  \\\n",
       "0  21st Century Wire says This latest stunt only ...      Middle-east   \n",
       "1  MOSCOW (Reuters) - U.S. Secretary of State Rex...        worldnews   \n",
       "2  WASHINGTON (Reuters) - As the Senate began a t...     politicsNews   \n",
       "3  When Marco Rubio announced that he was running...             News   \n",
       "4  Unprofessional? For those of you who might not...        left-news   \n",
       "5  NEW YORK/HOUSTON (Reuters) - The Trump adminis...     politicsNews   \n",
       "6  Hillary Clinton breaks the law, gets people wh...  Government News   \n",
       "7  It seems that Fox News  repeated decisions to ...             News   \n",
       "8  JAKARTA (Reuters) - Indonesia s foreign minist...        worldnews   \n",
       "9  All we can say on this one is it s about time ...        left-news   \n",
       "\n",
       "                 date  label  \n",
       "0        June 7, 2016      1  \n",
       "1   October 12, 2017       0  \n",
       "2     March 18, 2016       0  \n",
       "3    February 8, 2016      1  \n",
       "4         Sep 8, 2015      1  \n",
       "5     April 26, 2017       0  \n",
       "6        Oct 25, 2015      1  \n",
       "7     January 3, 2017      1  \n",
       "8  September 4, 2017       0  \n",
       "9        Aug 27, 2017      1  "
      ]
     },
     "execution_count": 66,
     "metadata": {},
     "output_type": "execute_result"
    }
   ],
   "source": [
    "df_combined.head(10)"
   ]
  },
  {
   "cell_type": "code",
   "execution_count": 67,
   "id": "e81cab5a-b3b0-40ca-b5fb-442728819435",
   "metadata": {},
   "outputs": [],
   "source": [
    "from sklearn.model_selection import train_test_split\n",
    "from sklearn.linear_model import LogisticRegression"
   ]
  },
  {
   "cell_type": "code",
   "execution_count": 68,
   "id": "8fff2397-26e4-49ad-9c44-07f60bc3ce3b",
   "metadata": {},
   "outputs": [],
   "source": [
    "X = df_combined['text'] \n",
    "y = df_combined['label']"
   ]
  },
  {
   "cell_type": "code",
   "execution_count": 69,
   "id": "f4febdd9-de4e-4194-ac0c-55f50249cb7e",
   "metadata": {},
   "outputs": [],
   "source": [
    "from sklearn.model_selection import train_test_split, KFold, GridSearchCV"
   ]
  },
  {
   "cell_type": "markdown",
   "id": "ef481b88-2adc-40cb-aace-2be0f3742eb7",
   "metadata": {},
   "source": [
    "Splitting the dataset-> 40% training data, 20% validation,40% testdata"
   ]
  },
  {
   "cell_type": "code",
   "execution_count": 70,
   "id": "e4d5728a-322b-4436-84b9-cc995775ca38",
   "metadata": {},
   "outputs": [],
   "source": [
    "from sklearn.model_selection import train_test_split\n",
    "\n",
    "X_temp, X_test, y_temp, y_test = train_test_split(X, y, test_size=0.4, random_state=42)\n",
    "\n",
    "X_train, X_val, y_train, y_val = train_test_split(X_temp, y_temp, test_size=0.3333, random_state=42)\n"
   ]
  },
  {
   "cell_type": "markdown",
   "id": "0e9f4307-d5c4-4b75-af82-512beabe9331",
   "metadata": {},
   "source": [
    "Tokenization-> Using CountVectorizer(Bag of  words)"
   ]
  },
  {
   "cell_type": "code",
   "execution_count": 71,
   "id": "0bdfad6b-d1af-4504-a90b-7439719639e5",
   "metadata": {},
   "outputs": [],
   "source": [
    "\n",
    "X_train_vectorized = vectorizer.fit_transform(X_train)\n",
    "X_val_vectorized = vectorizer.transform(X_val)\n",
    "X_test_vectorized = vectorizer.transform(X_test)\n",
    "\n",
    "model = LogisticRegression(max_iter=1000)\n",
    "model.fit(X_train_vectorized, y_train)\n",
    "\n",
    "y_pred = model.predict(X_test_vectorized)\n"
   ]
  },
  {
   "cell_type": "markdown",
   "id": "4566083a-a146-4785-a421-2ebf067266ca",
   "metadata": {},
   "source": [
    "K-fold cross Validation to tune the hyperparameters"
   ]
  },
  {
   "cell_type": "code",
   "execution_count": 80,
   "id": "2c57d742-5581-4842-9ef7-29841758ad56",
   "metadata": {},
   "outputs": [
    {
     "name": "stdout",
     "output_type": "stream",
     "text": [
      "Best Hyperparameters: {'C': 10, 'max_iter': 1000, 'penalty': 'l2', 'solver': 'lbfgs'}\n",
      "Validation Accuracy: 0.9937\n"
     ]
    }
   ],
   "source": [
    "from sklearn.model_selection import GridSearchCV\n",
    "\n",
    "param = {\n",
    "    'C': [0.01, 0.1, 1, 10],              \n",
    "    'penalty': ['l2'],                   \n",
    "    'solver': ['lbfgs'],\n",
    "    'max_iter': [1000]\n",
    "}\n",
    "\n",
    "grid = GridSearchCV(LogisticRegression(), param, cv=5, scoring='accuracy', n_jobs=-1)\n",
    "grid.fit(X_train_vectorized, y_train)\n",
    "\n",
    "print(\"Hyperparameters:\", grid.best_params_)\n",
    "\n",
    "val_pred = grid.predict(X_val_vectorized)\n",
    "val_acc = accuracy_score(y_val, val_pred)\n",
    "print(f\"Validation Accuracy: {val_acc:.4f}\")\n"
   ]
  },
  {
   "cell_type": "code",
   "execution_count": 73,
   "id": "f6a767fa-66d2-4b76-814f-aef59211cee7",
   "metadata": {},
   "outputs": [
    {
     "name": "stdout",
     "output_type": "stream",
     "text": [
      "Test Accuracy: 0.994097995545657\n"
     ]
    }
   ],
   "source": [
    "\n",
    "X_final = vectorizer.fit_transform(list(X_train) + list(X_val))\n",
    "y_final = list(y_train) + list(y_val)\n",
    "\n",
    "final_model = LogisticRegression(**grid.best_params_)\n",
    "final_model.fit(X_final, y_final)\n",
    "\n",
    "X_test_vectorized = vectorizer.transform(X_test)\n",
    "y_pred = final_model.predict(X_test_vectorized)\n",
    "\n",
    "print(\"Test Accuracy:\", accuracy_score(y_test, y_pred))\n"
   ]
  },
  {
   "cell_type": "code",
   "execution_count": 73,
   "id": "61f4c3c1-4982-4435-af37-bb9debe54722",
   "metadata": {},
   "outputs": [
    {
     "name": "stdout",
     "output_type": "stream",
     "text": [
      "Test Accuracy: 0.994097995545657\n"
     ]
    }
   ],
   "source": [
    "\n",
    "X_final = vectorizer.fit_transform(list(X_train) + list(X_val))\n",
    "y_final = list(y_train) + list(y_val)\n",
    "\n",
    "final_model = LogisticRegression(**grid.best_params_)\n",
    "final_model.fit(X_final, y_final)\n",
    "\n",
    "X_test_vectorized = vectorizer.transform(X_test)\n",
    "y_pred = final_model.predict(X_test_vectorized)\n",
    "\n",
    "print(\"Test Accuracy:\", accuracy_score(y_test, y_pred))\n"
   ]
  },
  {
   "cell_type": "code",
   "execution_count": null,
   "id": "9dd6ccf2-fce4-4191-949f-adf110f6899c",
   "metadata": {},
   "outputs": [],
   "source": []
  },
  {
   "cell_type": "code",
   "execution_count": 74,
   "id": "9f8b4c56-3373-4c8e-a585-d701aab37719",
   "metadata": {},
   "outputs": [
    {
     "name": "stdout",
     "output_type": "stream",
     "text": [
      " Accuracy: 0.994097995545657\n",
      " Classification Report:\n",
      "               precision    recall  f1-score   support\n",
      "\n",
      "           0       0.99      1.00      0.99      8685\n",
      "           1       1.00      0.99      0.99      9275\n",
      "\n",
      "    accuracy                           0.99     17960\n",
      "   macro avg       0.99      0.99      0.99     17960\n",
      "weighted avg       0.99      0.99      0.99     17960\n",
      "\n"
     ]
    }
   ],
   "source": [
    "from sklearn.metrics import accuracy_score, classification_report, confusion_matrix\n",
    "import seaborn as sns\n",
    "import matplotlib.pyplot as plt\n",
    "\n",
    "accuracy = accuracy_score(y_test, y_pred)\n",
    "print(\" Accuracy:\", accuracy)\n",
    "print(\" Classification Report:\\n\", classification_report(y_test, y_pred))\n"
   ]
  },
  {
   "cell_type": "code",
   "execution_count": 75,
   "id": "6fcf67b9-bbe9-4ebe-925e-33b90fc8c6a0",
   "metadata": {},
   "outputs": [
    {
     "data": {
      "image/png": "[encoded data removed]",
      "text/plain": [
       "<Figure size 500x500 with 2 Axes>"
      ]
     },
     "metadata": {},
     "output_type": "display_data"
    }
   ],
   "source": [
    "cm = confusion_matrix(y_test, y_pred)\n",
    "labels = [\"True\", \"Fake\"] \n",
    "\n",
    "plt.figure(figsize=(5, 5))\n",
    "sns.heatmap(cm, annot=True, fmt='d', cmap='Blues',)\n",
    "plt.xlabel(\"Predicted\")\n",
    "plt.ylabel(\"Actual\")\n",
    "plt.title(\"Confusion Matrix\")\n",
    "plt.show()\n"
   ]
  },
  {
   "cell_type": "code",
   "execution_count": 76,
   "id": "0fa683d2-479f-438c-9174-3e22183b7406",
   "metadata": {},
   "outputs": [
    {
     "name": "stdout",
     "output_type": "stream",
     "text": [
      "Top 'Fake' words: ['mbalula' 'condoms' 'interloper' 'sentimentality' 'khyber' 'enthusiastic'\n",
      " 'bitkower' 'creates' '8607' 'halls' 'caliph' 'hannachi' 'djamshid'\n",
      " 'gamethe' 'nadejda']\n"
     ]
    }
   ],
   "source": [
    "import numpy as np\n",
    "\n",
    "coefficients = model.coef_[0]\n",
    "feature_names = vectorizer.get_feature_names_out()\n",
    "\n",
    "top_fake = np.argsort(coefficients)[-15:]\n",
    "print(\"Top 'Fake' words:\", feature_names[top_fake])\n"
   ]
  },
  {
   "cell_type": "code",
   "execution_count": 77,
   "id": "2b5e5580-4814-4911-b555-9a509ca4d108",
   "metadata": {},
   "outputs": [
    {
     "name": "stdout",
     "output_type": "stream",
     "text": [
      "Top 'True' words: ['noland' 'sewage' 'sensenbrenner' 'refusefascism' 'opensociety'\n",
      " 'leightman' 'edison' 'righties' 'kczfw5f8cp' 'indelible' 'crevice'\n",
      " 'outdone' 'kew' 'neo' 'herren']\n"
     ]
    }
   ],
   "source": [
    "top_true = np.argsort(coefficients)[:15]\n",
    "print(\"Top 'True' words:\", feature_names[top_true])"
   ]
  },
  {
   "cell_type": "code",
   "execution_count": null,
   "id": "a2abfbb0-984e-49bc-bde1-1cac43e89839",
   "metadata": {},
   "outputs": [],
   "source": []
  },
  {
   "cell_type": "code",
   "execution_count": null,
   "id": "d3670680-a67c-4364-89bb-28af37758da0",
   "metadata": {},
   "outputs": [],
   "source": []
  }
 ],
 "metadata": {
  "kernelspec": {
   "display_name": "Python 3 (ipykernel)",
   "language": "python",
   "name": "python3"
  },
  "language_info": {
   "codemirror_mode": {
    "name": "ipython",
    "version": 3
   },
   "file_extension": ".py",
   "mimetype": "text/x-python",
   "name": "python",
   "nbconvert_exporter": "python",
   "pygments_lexer": "ipython3",
   "version": "3.11.7"
  }
 },
 "nbformat": 4,
 "nbformat_minor": 5
}

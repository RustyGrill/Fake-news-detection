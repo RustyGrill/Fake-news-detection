{
 "cells": [
  {
   "cell_type": "code",
   "execution_count": 2,
   "id": "c367dbc2",
   "metadata": {
    "vscode": {
     "languageId": "plaintext"
    }
   },
   "outputs": [
    {
     "name": "stdout",
     "output_type": "stream",
     "text": [
      "Validation Accuracy: 0.9962\n",
      "Test Accuracy: 0.9973\n",
      "\n",
      "Classification Report:\n",
      "               precision    recall  f1-score   support\n",
      "\n",
      "           0       1.00      1.00      1.00      8529\n",
      "           1       1.00      1.00      1.00      9430\n",
      "\n",
      "    accuracy                           1.00     17959\n",
      "   macro avg       1.00      1.00      1.00     17959\n",
      "weighted avg       1.00      1.00      1.00     17959\n",
      "\n"
     ]
    },
    {
     "data": {
      "image/png": "[encoded data removed]",
      "text/plain": [
       "<Figure size 500x500 with 2 Axes>"
      ]
     },
     "metadata": {},
     "output_type": "display_data"
    }
   ],
   "source": [
    "import pandas as pd\n",
    "import numpy as np\n",
    "import seaborn as sns\n",
    "import matplotlib.pyplot as plt\n",
    "\n",
    "from sklearn.model_selection import train_test_split, GridSearchCV\n",
    "from sklearn.feature_extraction.text import CountVectorizer\n",
    "from sklearn.ensemble import RandomForestClassifier\n",
    "from sklearn.metrics import accuracy_score, classification_report, confusion_matrix\n",
    "\n",
    "# Load datasets\n",
    "fake_news_path = r\"C:\\Users\\tejas\\OneDrive\\Desktop\\projectar\\Fake.csv.zip\"\n",
    "true_news_path = r\"C:\\Users\\tejas\\OneDrive\\Desktop\\projectar\\True.csv.zip\"\n",
    "\n",
    "df_fake = pd.read_csv(fake_news_path)\n",
    "df_true = pd.read_csv(true_news_path)\n",
    "\n",
    "# labels: 1 for fake, 0 for true\n",
    "df_fake[\"label\"] = 1\n",
    "df_true[\"label\"] = 0\n",
    "\n",
    "# Merge and shuffle the datasets\n",
    "news_df = pd.concat([df_fake, df_true], ignore_index=True)\n",
    "news_df = news_df.sample(frac=1, random_state=123).reset_index(drop=True)  # shuffled\n",
    "\n",
    "news_df.to_csv(\"news_dataset_rf.csv\", index=False)\n",
    "\n",
    "# Extract text and labels\n",
    "X_text = news_df['text'].fillna(\"\").astype(str)\n",
    "y = news_df['label']\n",
    "\n",
    "# Data splitting (40% train, 40% test, 20% validation)\n",
    "X_train_test, X_val, y_train_test, y_val = train_test_split(X_text, y, test_size=0.2, random_state=1)\n",
    "X_train, X_test, y_train, y_test = train_test_split(X_train_test, y_train_test, test_size=0.5, random_state=1)\n",
    "\n",
    "\n",
    "# Text vectorization (Bag of Words)\n",
    "vectorizer = CountVectorizer(stop_words='english', max_features=5000)\n",
    "X_train_vec = vectorizer.fit_transform(X_train)\n",
    "X_val_vec = vectorizer.transform(X_val)\n",
    "X_test_vec = vectorizer.transform(X_test)\n",
    "\n",
    "# Define parameter grid for tuning\n",
    "param_grid = {\n",
    "    'n_estimators': [100, 150],\n",
    "    'max_depth': [None, 15],\n",
    "    'min_samples_split': [2, 4]\n",
    "}\n",
    "\n",
    "# Perform grid search with cross-validation\n",
    "clf = RandomForestClassifier(random_state=7)\n",
    "grid_search = GridSearchCV(clf, param_grid, cv=5, scoring='accuracy', n_jobs=-1)\n",
    "grid_search.fit(X_train_vec, y_train)\n",
    "\n",
    "# Evaluate on validation set\n",
    "val_preds = grid_search.predict(X_val_vec)\n",
    "val_accuracy = accuracy_score(y_val, val_preds)\n",
    "print(f\"Validation Accuracy: {val_accuracy:.4f}\")\n",
    "\n",
    "# Retrain on full training + validation data\n",
    "X_final_vec = vectorizer.fit_transform(pd.concat([X_train, X_val]))\n",
    "y_final = pd.concat([y_train, y_val])\n",
    "\n",
    "best_rf = RandomForestClassifier(**grid_search.best_params_, random_state=7)\n",
    "best_rf.fit(X_final_vec, y_final)\n",
    "\n",
    "# Predict on test set\n",
    "X_test_vec = vectorizer.transform(X_test)\n",
    "test_preds = best_rf.predict(X_test_vec)\n",
    "\n",
    "test_accuracy = accuracy_score(y_test, test_preds)\n",
    "print(f\"Test Accuracy: {test_accuracy:.4f}\")\n",
    "print(\"\\nClassification Report:\\n\", classification_report(y_test, test_preds))\n",
    "\n",
    "# Confusion Matrix Plot\n",
    "conf_matrix = confusion_matrix(y_test, test_preds)\n",
    "plt.figure(figsize=(5, 5))\n",
    "sns.heatmap(conf_matrix, annot=True, fmt='d', cmap='Blues')\n",
    "plt.title(\"Confusion Matrix - Random Forest\")\n",
    "plt.xlabel(\"Predicted Label\")\n",
    "plt.ylabel(\"True Label\")\n",
    "plt.tight_layout()\n",
    "plt.show()\n"
   ]
  },
  {
   "cell_type": "code",
   "execution_count": null,
   "id": "d05aad94-dfd3-4445-8570-13a904b8a325",
   "metadata": {},
   "outputs": [],
   "source": []
  },
  {
   "cell_type": "code",
   "execution_count": null,
   "id": "b86af1b6-35be-427d-a8cc-7f655807ba7d",
   "metadata": {},
   "outputs": [],
   "source": []
  }
 ],
 "metadata": {
  "kernelspec": {
   "display_name": "Python 3 (ipykernel)",
   "language": "python",
   "name": "python3"
  },
  "language_info": {
   "codemirror_mode": {
    "name": "ipython",
    "version": 3
   },
   "file_extension": ".py",
   "mimetype": "text/x-python",
   "name": "python",
   "nbconvert_exporter": "python",
   "pygments_lexer": "ipython3",
   "version": "3.11.7"
  }
 },
 "nbformat": 4,
 "nbformat_minor": 5
}
